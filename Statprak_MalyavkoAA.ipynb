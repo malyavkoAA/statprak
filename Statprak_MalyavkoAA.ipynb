{
 "cells": [
  {
   "cell_type": "code",
   "execution_count": 3,
   "metadata": {},
   "outputs": [
    {
     "name": "stdout",
     "output_type": "stream",
     "text": [
      "What is your name?: Ann\n",
      "How old are you?: 20\n",
      "What is you favorite number >=1: 7\n",
      "Ann, you will be 100 years old in 2099\n",
      "Ann, you will be 100 years old in 2099\n",
      "Ann, you will be 100 years old in 2099\n",
      "Ann, you will be 100 years old in 2099\n",
      "Ann, you will be 100 years old in 2099\n",
      "Ann, you will be 100 years old in 2099\n",
      "Ann, you will be 100 years old in 2099\n",
      "\n"
     ]
    }
   ],
   "source": [
    "name = input(\"What is your name?: \")\n",
    "age = input(\"How old are you?: \")\n",
    "val = input(\"What is you favorite number >=1: \")\n",
    "iage = int(age)\n",
    "ival = int(val)\n",
    "x=2019+100-iage\n",
    "print((name + \", you will be 100 years old in \" + str(x) + \"\\n\")*ival )"
   ]
  },
  {
   "cell_type": "code",
   "execution_count": 4,
   "metadata": {},
   "outputs": [
    {
     "name": "stdout",
     "output_type": "stream",
     "text": [
      "Choose a number: 37\n",
      "[1, 1, 2, 3, 5, 8, 13, 21, 34]\n"
     ]
    }
   ],
   "source": [
    "a = [1, 1, 2, 3, 5, 8, 13, 21, 34, 55, 89]\n",
    "\n",
    "num = int(input(\"Choose a number: \"))\n",
    "\n",
    "new_list = []\n",
    "\n",
    "for i in a:\n",
    "\tif i < num:\n",
    "\t\tnew_list.append(i)\n",
    "\n",
    "print (new_list)"
   ]
  },
  {
   "cell_type": "code",
   "execution_count": 5,
   "metadata": {},
   "outputs": [
    {
     "name": "stdout",
     "output_type": "stream",
     "text": [
      "What's your guess?6\n",
      "Too high!\n",
      "What's your guess?5\n",
      "Too high!\n",
      "What's your guess?4\n",
      "You got it!\n",
      "And it only took you 3 tries!\n"
     ]
    }
   ],
   "source": [
    "\n",
    "import random\n",
    "\n",
    "number = random.randint(1,9)\n",
    "guess = 0\n",
    "count = 0\n",
    "\n",
    "\n",
    "while guess != number and guess != \"exit\":\n",
    "    guess = input(\"What's your guess?\")\n",
    "    \n",
    "    if guess == \"exit\":\n",
    "        break\n",
    "    \n",
    "    guess = int(guess)\n",
    "    count += 1\n",
    "    \n",
    "    if guess < number:\n",
    "        print(\"Too low!\")\n",
    "    elif guess > number:\n",
    "        print(\"Too high!\")\n",
    "    else:\n",
    "        print(\"You got it!\")\n",
    "        print(\"And it only took you\",count,\"tries!\")"
   ]
  },
  {
   "cell_type": "code",
   "execution_count": 6,
   "metadata": {},
   "outputs": [
    {
     "name": "stdout",
     "output_type": "stream",
     "text": [
      "How strong do you want your password to be? low/medium/high: high\n",
      "P!AN^L_kd)#e7H6_$G0E23HWoU\n"
     ]
    }
   ],
   "source": [
    "import random\n",
    "\n",
    "s = \"abcdefghijklmnopqrstuvwxyz01234567890ABCDEFGHIJKLMNOPQRSTUVWXYZ!@#$%^&*()?\"\n",
    "\n",
    "pdif = input(\"How strong do you want your password to be? low/medium/high: \") \n",
    "if pdif == \"low\":\n",
    "    p=  \"\".join(random.sample(s,8 ))\n",
    "    \n",
    "if pdif == \"medium\":\n",
    "    p=  \"\".join(random.sample(s,8 )) + \"_\" + \"\".join(random.sample(s,8 ))\n",
    "    \n",
    "if pdif == \"high\":\n",
    "    p=  \"\".join(random.sample(s,6 )) + \"_\" + \"\".join(random.sample(s,8 ))+ \"_\" + \"\".join(random.sample(s,10 ))\n",
    "\n",
    "print (p)"
   ]
  },
  {
   "cell_type": "code",
   "execution_count": null,
   "metadata": {},
   "outputs": [],
   "source": []
  }
 ],
 "metadata": {
  "kernelspec": {
   "display_name": "Python 3",
   "language": "python",
   "name": "python3"
  },
  "language_info": {
   "codemirror_mode": {
    "name": "ipython",
    "version": 3
   },
   "file_extension": ".py",
   "mimetype": "text/x-python",
   "name": "python",
   "nbconvert_exporter": "python",
   "pygments_lexer": "ipython3",
   "version": "3.7.1"
  }
 },
 "nbformat": 4,
 "nbformat_minor": 2
}
